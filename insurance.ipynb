{
 "metadata": {
  "language_info": {
   "codemirror_mode": {
    "name": "ipython",
    "version": 3
   },
   "file_extension": ".py",
   "mimetype": "text/x-python",
   "name": "python",
   "nbconvert_exporter": "python",
   "pygments_lexer": "ipython3",
   "version": "3.9.2"
  },
  "orig_nbformat": 2,
  "kernelspec": {
   "name": "python392jvsc74a57bd01f3e9b53d32d8b36929352d479a99cd7bd89cbfa9b518ebab93efd850a2e9d2f",
   "display_name": "Python 3.9.2 64-bit"
  },
  "metadata": {
   "interpreter": {
    "hash": "1f3e9b53d32d8b36929352d479a99cd7bd89cbfa9b518ebab93efd850a2e9d2f"
   }
  }
 },
 "nbformat": 4,
 "nbformat_minor": 2,
 "cells": [
  {
   "cell_type": "code",
   "execution_count": 319,
   "metadata": {},
   "outputs": [],
   "source": [
    "import csv"
   ]
  },
  {
   "cell_type": "code",
   "execution_count": 320,
   "metadata": {},
   "outputs": [],
   "source": [
    "age = []\n",
    "sex = []\n",
    "bmi = []\n",
    "children = []\n",
    "smoker = []\n",
    "region = []\n",
    "charges = []"
   ]
  },
  {
   "cell_type": "code",
   "execution_count": 321,
   "metadata": {},
   "outputs": [],
   "source": [
    "def load_list_data(lst, csv_file, column_name):\n",
    "    with open(csv_file) as csv_info:\n",
    "        setup = csv.DictReader(csv_info)\n",
    "        for row in setup:\n",
    "            lst.append(row[column_name])\n",
    "\n",
    "    return lst"
   ]
  },
  {
   "source": [
    "load_list_data(age, 'insurance.csv', 'age')\n",
    "load_list_data(sex, 'insurance.csv', 'sex')\n",
    "load_list_data(bmi, 'insurance.csv', 'bmi')\n",
    "load_list_data(children, 'insurance.csv', 'children')\n",
    "load_list_data(smoker, 'insurance.csv', 'smoker')\n",
    "load_list_data(region, 'insurance.csv', 'region')\n",
    "load_list_data(charges, 'insurance.csv', 'charges')"
   ],
   "cell_type": "code",
   "metadata": {},
   "execution_count": null,
   "outputs": []
  },
  {
   "cell_type": "code",
   "execution_count": 397,
   "metadata": {},
   "outputs": [],
   "source": [
    "class PeopleInfo():\n",
    "    def __init__(self, p_ages, p_sexes, p_bmi, p_children, p_smoker, p_region, p_charges):\n",
    "        self.p_ages = p_ages\n",
    "        self.p_sexes = p_sexes\n",
    "        self.p_bmi = p_bmi\n",
    "        self.p_children = p_children\n",
    "        self.p_smoker = p_smoker\n",
    "        self.p_region = p_region\n",
    "        self.p_charges = p_charges\n",
    "\n",
    "\n",
    "    def avg_age(self): \n",
    "        total_age = 0  \n",
    "\n",
    "        for age in self.p_ages:\n",
    "            total_age += int(age)\n",
    "        print(\"The average age combined is \" + str(round(total_age/len(self.p_ages), 2)) + \" years.\")\n",
    "    \n",
    "        ave_m = []\n",
    "        ave_f = []\n",
    "\n",
    "        asa = list(zip(self.p_sexes, self.p_ages))\n",
    "        for a in asa:\n",
    "            if str(a[0]) == 'male':\n",
    "                ave_m.append(int(a[1]))\n",
    "            elif str(a[0]) == 'female':\n",
    "                ave_f.append(int(a[1]))\n",
    "\n",
    "        \n",
    "        print(\"The average male age is: \" + str(round(sum(ave_m) / len(ave_m), 2)))\n",
    "        print(\"The average female age is: \" + str(round(sum(ave_f) / len(ave_f),2)))\n",
    "       \n",
    "    def dif_sex(self):\n",
    "        females = 0\n",
    "        males = 0 \n",
    "\n",
    "        for sex in self.p_sexes:\n",
    "            if sex == 'female':\n",
    "                females += 1\n",
    "            elif sex == 'male':\n",
    "                 males += 1\n",
    "        print(\"Count for female: \", females)\n",
    "        print(\"Count for make: \", males)\n",
    "\n",
    "        \n",
    "    def majority_region(self):\n",
    "        region = []\n",
    "        for r in self.p_region:\n",
    "            if r not in region:\n",
    "                region.append(r)\n",
    "        return \"Most people listed here emanate form the \" + max(region)\n",
    "\n",
    "    def dif_cost(self):\n",
    "        smoker_c = []\n",
    "        non_smoker_c = []\n",
    "\n",
    "        res = list(zip(self.p_smoker, self.p_charges))\n",
    "\n",
    "        for r in res:\n",
    "            if str(r[0]) == 'yes':\n",
    "                smoker_c.append(float(r[1])) \n",
    "            elif str(r[0]) == 'no':\n",
    "                non_smoker_c.append(float(r[1]))\n",
    "\n",
    "        print('There are {} smokers compared to {} non-smokers.'.format(str(len(smoker_c)), str(len(non_smoker_c))))\n",
    "       \n",
    "        print('The average medical insurance of smokers is $' + str(round(sum(smoker_c) / len(smoker_c), 2)))\n",
    "        print('The average medical insurance of non-smokers is $' + str(round(sum(non_smoker_c) / len(non_smoker_c), 2)))\n",
    "        print(\"Those who smoke pay ${} more for insurance than non-smokers.\".format(str(round(sum(smoker_c) / len(smoker_c), 2) - round(sum(non_smoker_c) / len(non_smoker_c), 2)))) \n",
    "\n",
    "    def gender_smoker(self):\n",
    "        m_smoker = 0\n",
    "        n_m_smoker = 0\n",
    "        f_smoker = 0\n",
    "        n_f_smoker = 0\n",
    "\n",
    "        gmfs = list(zip(self.p_smoker, self.p_sexes))\n",
    "        for a in gmfs:\n",
    "            if str(a[0]) == 'yes' and str(a[1]) == 'male':\n",
    "                m_smoker += 1\n",
    "            elif str(a[0]) == 'no' and str(a[1]) == 'male':\n",
    "                n_m_smoker += 1\n",
    "            elif str(a[0]) == 'yes' and str(a[1]) == 'female':\n",
    "                f_smoker += 1\n",
    "            elif str(a[0]) == 'no' and str(a[1]) == 'female':\n",
    "                n_f_smoker += 1\n",
    "\n",
    "        print(\"The amount of males that smoke are {} compared to men that do not smoke {}.\".format(m_smoker, n_m_smoker))\n",
    "        print(\"The amount of females that smoke are {} compared to women that do not smoke {}.\".format(f_smoker, n_f_smoker))\n",
    "\n",
    "    def create_dictionary(self):\n",
    "        self.p_dictionary = {}\n",
    "        self.p_dictionary[\"age\"] = [int(age) for age in self.p_ages]\n",
    "        self.p_dictionary[\"sex\"] = self.p_sexes\n",
    "        self.p_dictionary[\"bmi\"] = self.p_bmi\n",
    "        self.p_dictionary[\"children\"] = self.p_children\n",
    "        self.p_dictionary[\"smoker\"] = self.p_smoker\n",
    "        self.p_dictionary[\"regions\"] = self.p_region\n",
    "        self.p_dictionary[\"charges\"] = self.p_charges\n",
    "        return self.p_dictionary"
   ]
  },
  {
   "cell_type": "code",
   "execution_count": 398,
   "metadata": {},
   "outputs": [],
   "source": [
    "patient_info = PeopleInfo(age, sex, bmi, children, smoker, region, charges )\n"
   ]
  },
  {
   "cell_type": "code",
   "execution_count": 399,
   "metadata": {},
   "outputs": [
    {
     "output_type": "stream",
     "name": "stdout",
     "text": [
      "The average age combined is 39.21 years.\nThe average male age is: 38.92\nThe average female age is: 39.5\n"
     ]
    }
   ],
   "source": [
    "patient_info.avg_age()"
   ]
  },
  {
   "cell_type": "code",
   "execution_count": 400,
   "metadata": {},
   "outputs": [
    {
     "output_type": "execute_result",
     "data": {
      "text/plain": [
       "'Most people listed here emanate form the southwest'"
      ]
     },
     "metadata": {},
     "execution_count": 400
    }
   ],
   "source": [
    "patient_info.majority_region()"
   ]
  },
  {
   "cell_type": "code",
   "execution_count": 401,
   "metadata": {},
   "outputs": [
    {
     "output_type": "stream",
     "name": "stdout",
     "text": [
      "Count for female:  662\nCount for make:  676\n"
     ]
    }
   ],
   "source": [
    "patient_info.dif_sex()"
   ]
  },
  {
   "cell_type": "code",
   "execution_count": 402,
   "metadata": {
    "tags": []
   },
   "outputs": [
    {
     "output_type": "stream",
     "name": "stdout",
     "text": [
      "There are 274 smokers compared to 1064 non-smokers.\nThe average medical insurance of smokers is $32050.23\nThe average medical insurance of non-smokers is $8434.27\nThose who smoke pay $23615.96 more for insurance than non-smokers.\n"
     ]
    }
   ],
   "source": [
    "patient_info.dif_cost()"
   ]
  },
  {
   "cell_type": "code",
   "execution_count": 403,
   "metadata": {},
   "outputs": [
    {
     "output_type": "stream",
     "name": "stdout",
     "text": [
      "The amount of males that smoke are 159 compared to men that do not smoke 517.\nThe amount of females that smoke are 115 compared to women that do not smoke 547.\n"
     ]
    }
   ],
   "source": [
    "patient_info.gender_smoker()"
   ]
  },
  {
   "source": [
    "patient_info.create_dictionary()"
   ],
   "cell_type": "code",
   "metadata": {},
   "execution_count": null,
   "outputs": []
  },
  {
   "cell_type": "code",
   "execution_count": null,
   "metadata": {},
   "outputs": [],
   "source": []
  }
 ]
}